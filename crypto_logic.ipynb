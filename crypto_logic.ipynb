{
 "cells": [
  {
   "cell_type": "code",
   "execution_count": 14,
   "id": "6045f647-89dc-4a1f-a8d3-322122538c03",
   "metadata": {},
   "outputs": [],
   "source": [
    "import pandas as pd\n",
    "import requests\n",
    "import json\n",
    "from config import api_key\n",
    "from pprint import pprint"
   ]
  },
  {
   "cell_type": "code",
   "execution_count": 37,
   "id": "32fddf63",
   "metadata": {},
   "outputs": [],
   "source": [
    "#Multiple time period func\n",
    "def fetch_data(time_period):\n",
    "    url = \"https://coinranking1.p.rapidapi.com/coins\"\n",
    "\n",
    "    querystring = {\"referenceCurrencyUuid\":\"yhjMzLPhuIDl\",\"timePeriod\": time_period,\n",
    "                   \"tiers[0]\":\"1\",\"orderBy\":\"marketCap\",\"orderDirection\":\"desc\",\n",
    "                   \"limit\":\"50\",\"offset\":\"0\"}\n",
    "\n",
    "    headers = {\n",
    "        \"X-RapidAPI-Key\": f\"{api_key}\",\n",
    "        \"X-RapidAPI-Host\": \"coinranking1.p.rapidapi.com\"\n",
    "    }\n",
    "    #API call\n",
    "    response = requests.get(url, headers=headers, params=querystring)\n",
    "    #Error formatting\n",
    "    if response.status_code == 200:\n",
    "        return pd.DataFrame(response.json()['data']['coins']) \n",
    "    else:\n",
    "        return pd.DataFrame()\n",
    "\n",
    "df_24hr = fetch_data('24h').drop(columns=['iconUrl', 'coinrankingUrl'])\n",
    "df_7d = fetch_data('7d').drop(columns=['iconUrl', 'coinrankingUrl'])\n",
    "df_30d = fetch_data('30d').drop(columns=['iconUrl', 'coinrankingUrl'])\n",
    "df_3m = fetch_data('3m').drop(columns=['iconUrl', 'coinrankingUrl'])"
   ]
  },
  {
   "cell_type": "code",
   "execution_count": null,
   "id": "711ddf14",
   "metadata": {},
   "outputs": [],
   "source": []
  },
  {
   "cell_type": "code",
   "execution_count": null,
   "id": "46bd8688",
   "metadata": {},
   "outputs": [],
   "source": []
  },
  {
   "cell_type": "code",
   "execution_count": null,
   "id": "63ec1a80",
   "metadata": {},
   "outputs": [],
   "source": []
  },
  {
   "cell_type": "code",
   "execution_count": null,
   "id": "6a69a279",
   "metadata": {},
   "outputs": [],
   "source": []
  },
  {
   "cell_type": "code",
   "execution_count": null,
   "id": "037d1424",
   "metadata": {},
   "outputs": [],
   "source": []
  },
  {
   "cell_type": "code",
   "execution_count": null,
   "id": "036dc80e",
   "metadata": {},
   "outputs": [],
   "source": []
  },
  {
   "cell_type": "code",
   "execution_count": null,
   "id": "c3ba3fac",
   "metadata": {},
   "outputs": [],
   "source": []
  },
  {
   "cell_type": "code",
   "execution_count": null,
   "id": "9a381326",
   "metadata": {},
   "outputs": [],
   "source": []
  }
 ],
 "metadata": {
  "kernelspec": {
   "display_name": "Python 3 (ipykernel)",
   "language": "python",
   "name": "python3"
  },
  "language_info": {
   "codemirror_mode": {
    "name": "ipython",
    "version": 3
   },
   "file_extension": ".py",
   "mimetype": "text/x-python",
   "name": "python",
   "nbconvert_exporter": "python",
   "pygments_lexer": "ipython3",
   "version": "3.11.4"
  }
 },
 "nbformat": 4,
 "nbformat_minor": 5
}
